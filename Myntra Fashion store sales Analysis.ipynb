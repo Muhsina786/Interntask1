{
 "cells": [
  {
   "cell_type": "code",
   "execution_count": 1,
   "id": "d6bc48c9",
   "metadata": {},
   "outputs": [],
   "source": [
    "import numpy as np\n",
    "import pandas as pd\n",
    "import matplotlib.pyplot as plt\n",
    "import seaborn as sns\n",
    "%matplotlib inline"
   ]
  },
  {
   "cell_type": "code",
   "execution_count": 2,
   "id": "41d7bca4",
   "metadata": {},
   "outputs": [
    {
     "name": "stderr",
     "output_type": "stream",
     "text": [
      "C:\\Users\\APPUS\\AppData\\Local\\Temp\\ipykernel_2672\\518712239.py:1: DtypeWarning: Columns (9) have mixed types. Specify dtype option on import or set low_memory=False.\n",
      "  data = pd.read_csv('myntrafasionclothing.csv')\n"
     ]
    },
    {
     "data": {
      "text/html": [
       "<div>\n",
       "<style scoped>\n",
       "    .dataframe tbody tr th:only-of-type {\n",
       "        vertical-align: middle;\n",
       "    }\n",
       "\n",
       "    .dataframe tbody tr th {\n",
       "        vertical-align: top;\n",
       "    }\n",
       "\n",
       "    .dataframe thead th {\n",
       "        text-align: right;\n",
       "    }\n",
       "</style>\n",
       "<table border=\"1\" class=\"dataframe\">\n",
       "  <thead>\n",
       "    <tr style=\"text-align: right;\">\n",
       "      <th></th>\n",
       "      <th>URL</th>\n",
       "      <th>Product_id</th>\n",
       "      <th>BrandName</th>\n",
       "      <th>Category</th>\n",
       "      <th>Individual_category</th>\n",
       "      <th>category_by_Gender</th>\n",
       "      <th>Description</th>\n",
       "      <th>DiscountPrice (in Rs)</th>\n",
       "      <th>OriginalPrice (in Rs)</th>\n",
       "      <th>DiscountOffer</th>\n",
       "      <th>SizeOption</th>\n",
       "      <th>Ratings</th>\n",
       "      <th>Reviews</th>\n",
       "    </tr>\n",
       "  </thead>\n",
       "  <tbody>\n",
       "    <tr>\n",
       "      <th>0</th>\n",
       "      <td>https://www.myntra.com/jeans/roadster/roadster...</td>\n",
       "      <td>2296012</td>\n",
       "      <td>Roadster</td>\n",
       "      <td>Bottom Wear</td>\n",
       "      <td>jeans</td>\n",
       "      <td>Men</td>\n",
       "      <td>roadster men navy blue slim fit mid rise clean...</td>\n",
       "      <td>824.0</td>\n",
       "      <td>1499.0</td>\n",
       "      <td>45% OFF</td>\n",
       "      <td>28, 30, 32, 34, 36</td>\n",
       "      <td>3.9</td>\n",
       "      <td>999.0</td>\n",
       "    </tr>\n",
       "    <tr>\n",
       "      <th>1</th>\n",
       "      <td>https://www.myntra.com/track-pants/locomotive/...</td>\n",
       "      <td>13780156</td>\n",
       "      <td>LOCOMOTIVE</td>\n",
       "      <td>Bottom Wear</td>\n",
       "      <td>track-pants</td>\n",
       "      <td>Men</td>\n",
       "      <td>locomotive men black  white solid slim fit tra...</td>\n",
       "      <td>517.0</td>\n",
       "      <td>1149.0</td>\n",
       "      <td>55% OFF</td>\n",
       "      <td>S, M, L, XL</td>\n",
       "      <td>4.0</td>\n",
       "      <td>999.0</td>\n",
       "    </tr>\n",
       "    <tr>\n",
       "      <th>2</th>\n",
       "      <td>https://www.myntra.com/shirts/roadster/roadste...</td>\n",
       "      <td>11895958</td>\n",
       "      <td>Roadster</td>\n",
       "      <td>Topwear</td>\n",
       "      <td>shirts</td>\n",
       "      <td>Men</td>\n",
       "      <td>roadster men navy white  black geometric print...</td>\n",
       "      <td>629.0</td>\n",
       "      <td>1399.0</td>\n",
       "      <td>55% OFF</td>\n",
       "      <td>38, 40, 42, 44, 46, 48</td>\n",
       "      <td>4.3</td>\n",
       "      <td>999.0</td>\n",
       "    </tr>\n",
       "    <tr>\n",
       "      <th>3</th>\n",
       "      <td>https://www.myntra.com/shapewear/zivame/zivame...</td>\n",
       "      <td>4335679</td>\n",
       "      <td>Zivame</td>\n",
       "      <td>Lingerie &amp; Sleep Wear</td>\n",
       "      <td>shapewear</td>\n",
       "      <td>Women</td>\n",
       "      <td>zivame women black saree shapewear zi3023core0...</td>\n",
       "      <td>893.0</td>\n",
       "      <td>1295.0</td>\n",
       "      <td>31% OFF</td>\n",
       "      <td>S, M, L, XL, XXL</td>\n",
       "      <td>4.2</td>\n",
       "      <td>999.0</td>\n",
       "    </tr>\n",
       "    <tr>\n",
       "      <th>4</th>\n",
       "      <td>https://www.myntra.com/tshirts/roadster/roadst...</td>\n",
       "      <td>11690882</td>\n",
       "      <td>Roadster</td>\n",
       "      <td>Western</td>\n",
       "      <td>tshirts</td>\n",
       "      <td>Women</td>\n",
       "      <td>roadster women white solid v neck pure cotton ...</td>\n",
       "      <td>NaN</td>\n",
       "      <td>599.0</td>\n",
       "      <td>35% OFF</td>\n",
       "      <td>XS, S, M, L, XL</td>\n",
       "      <td>4.2</td>\n",
       "      <td>999.0</td>\n",
       "    </tr>\n",
       "    <tr>\n",
       "      <th>...</th>\n",
       "      <td>...</td>\n",
       "      <td>...</td>\n",
       "      <td>...</td>\n",
       "      <td>...</td>\n",
       "      <td>...</td>\n",
       "      <td>...</td>\n",
       "      <td>...</td>\n",
       "      <td>...</td>\n",
       "      <td>...</td>\n",
       "      <td>...</td>\n",
       "      <td>...</td>\n",
       "      <td>...</td>\n",
       "      <td>...</td>\n",
       "    </tr>\n",
       "    <tr>\n",
       "      <th>526559</th>\n",
       "      <td>https://www.myntra.com/sweaters/hm/hm-women-be...</td>\n",
       "      <td>16929990</td>\n",
       "      <td>H&amp;M</td>\n",
       "      <td>Western</td>\n",
       "      <td>sweaters</td>\n",
       "      <td>Women</td>\n",
       "      <td>hm women beige oversized cashmere jumper</td>\n",
       "      <td>NaN</td>\n",
       "      <td>9999.0</td>\n",
       "      <td>NaN</td>\n",
       "      <td>XS, S, M, L</td>\n",
       "      <td>NaN</td>\n",
       "      <td>NaN</td>\n",
       "    </tr>\n",
       "    <tr>\n",
       "      <th>526560</th>\n",
       "      <td>https://www.myntra.com/jackets/hm/hm-women-bla...</td>\n",
       "      <td>16026012</td>\n",
       "      <td>H&amp;M</td>\n",
       "      <td>Western</td>\n",
       "      <td>jackets</td>\n",
       "      <td>Women</td>\n",
       "      <td>hm women black water repellent parka jacket</td>\n",
       "      <td>NaN</td>\n",
       "      <td>9999.0</td>\n",
       "      <td>NaN</td>\n",
       "      <td>XS, S, M, L, XL</td>\n",
       "      <td>NaN</td>\n",
       "      <td>NaN</td>\n",
       "    </tr>\n",
       "    <tr>\n",
       "      <th>526561</th>\n",
       "      <td>https://www.myntra.com/dresses/250-designs/250...</td>\n",
       "      <td>17654114</td>\n",
       "      <td>250 DESIGNS</td>\n",
       "      <td>Western</td>\n",
       "      <td>dresses</td>\n",
       "      <td>Women</td>\n",
       "      <td>250 designs blue lace sheath dress</td>\n",
       "      <td>NaN</td>\n",
       "      <td>9999.0</td>\n",
       "      <td>NaN</td>\n",
       "      <td>S, M, L, XL, XXL</td>\n",
       "      <td>NaN</td>\n",
       "      <td>NaN</td>\n",
       "    </tr>\n",
       "    <tr>\n",
       "      <th>526562</th>\n",
       "      <td>https://www.myntra.com/dresses/masaba/masaba-w...</td>\n",
       "      <td>12508700</td>\n",
       "      <td>Masaba</td>\n",
       "      <td>Western</td>\n",
       "      <td>dresses</td>\n",
       "      <td>Women</td>\n",
       "      <td>masaba women yellow printed a line dress</td>\n",
       "      <td>NaN</td>\n",
       "      <td>9999.0</td>\n",
       "      <td>NaN</td>\n",
       "      <td>XS, S, M, L, XL</td>\n",
       "      <td>NaN</td>\n",
       "      <td>NaN</td>\n",
       "    </tr>\n",
       "    <tr>\n",
       "      <th>526563</th>\n",
       "      <td>https://www.myntra.com/tshirts/jockey/jockey-w...</td>\n",
       "      <td>17856544</td>\n",
       "      <td>Jockey</td>\n",
       "      <td>Western</td>\n",
       "      <td>tshirts</td>\n",
       "      <td>Women</td>\n",
       "      <td>jockey women blue extended sleeves t shirt</td>\n",
       "      <td>NaN</td>\n",
       "      <td>799.0</td>\n",
       "      <td>NaN</td>\n",
       "      <td>S, M, L</td>\n",
       "      <td>NaN</td>\n",
       "      <td>NaN</td>\n",
       "    </tr>\n",
       "  </tbody>\n",
       "</table>\n",
       "<p>526564 rows × 13 columns</p>\n",
       "</div>"
      ],
      "text/plain": [
       "                                                      URL  Product_id  \\\n",
       "0       https://www.myntra.com/jeans/roadster/roadster...     2296012   \n",
       "1       https://www.myntra.com/track-pants/locomotive/...    13780156   \n",
       "2       https://www.myntra.com/shirts/roadster/roadste...    11895958   \n",
       "3       https://www.myntra.com/shapewear/zivame/zivame...     4335679   \n",
       "4       https://www.myntra.com/tshirts/roadster/roadst...    11690882   \n",
       "...                                                   ...         ...   \n",
       "526559  https://www.myntra.com/sweaters/hm/hm-women-be...    16929990   \n",
       "526560  https://www.myntra.com/jackets/hm/hm-women-bla...    16026012   \n",
       "526561  https://www.myntra.com/dresses/250-designs/250...    17654114   \n",
       "526562  https://www.myntra.com/dresses/masaba/masaba-w...    12508700   \n",
       "526563  https://www.myntra.com/tshirts/jockey/jockey-w...    17856544   \n",
       "\n",
       "          BrandName               Category Individual_category  \\\n",
       "0          Roadster            Bottom Wear               jeans   \n",
       "1        LOCOMOTIVE            Bottom Wear         track-pants   \n",
       "2          Roadster                Topwear              shirts   \n",
       "3            Zivame  Lingerie & Sleep Wear           shapewear   \n",
       "4          Roadster                Western             tshirts   \n",
       "...             ...                    ...                 ...   \n",
       "526559          H&M                Western            sweaters   \n",
       "526560          H&M                Western             jackets   \n",
       "526561  250 DESIGNS                Western             dresses   \n",
       "526562       Masaba                Western             dresses   \n",
       "526563       Jockey                Western             tshirts   \n",
       "\n",
       "       category_by_Gender                                        Description  \\\n",
       "0                     Men  roadster men navy blue slim fit mid rise clean...   \n",
       "1                     Men  locomotive men black  white solid slim fit tra...   \n",
       "2                     Men  roadster men navy white  black geometric print...   \n",
       "3                   Women  zivame women black saree shapewear zi3023core0...   \n",
       "4                   Women  roadster women white solid v neck pure cotton ...   \n",
       "...                   ...                                                ...   \n",
       "526559              Women           hm women beige oversized cashmere jumper   \n",
       "526560              Women        hm women black water repellent parka jacket   \n",
       "526561              Women                 250 designs blue lace sheath dress   \n",
       "526562              Women           masaba women yellow printed a line dress   \n",
       "526563              Women         jockey women blue extended sleeves t shirt   \n",
       "\n",
       "        DiscountPrice (in Rs)  OriginalPrice (in Rs) DiscountOffer  \\\n",
       "0                       824.0                 1499.0       45% OFF   \n",
       "1                       517.0                 1149.0       55% OFF   \n",
       "2                       629.0                 1399.0       55% OFF   \n",
       "3                       893.0                 1295.0       31% OFF   \n",
       "4                         NaN                  599.0       35% OFF   \n",
       "...                       ...                    ...           ...   \n",
       "526559                    NaN                 9999.0           NaN   \n",
       "526560                    NaN                 9999.0           NaN   \n",
       "526561                    NaN                 9999.0           NaN   \n",
       "526562                    NaN                 9999.0           NaN   \n",
       "526563                    NaN                  799.0           NaN   \n",
       "\n",
       "                    SizeOption  Ratings  Reviews  \n",
       "0           28, 30, 32, 34, 36      3.9    999.0  \n",
       "1                  S, M, L, XL      4.0    999.0  \n",
       "2       38, 40, 42, 44, 46, 48      4.3    999.0  \n",
       "3             S, M, L, XL, XXL      4.2    999.0  \n",
       "4              XS, S, M, L, XL      4.2    999.0  \n",
       "...                        ...      ...      ...  \n",
       "526559             XS, S, M, L      NaN      NaN  \n",
       "526560         XS, S, M, L, XL      NaN      NaN  \n",
       "526561        S, M, L, XL, XXL      NaN      NaN  \n",
       "526562         XS, S, M, L, XL      NaN      NaN  \n",
       "526563                 S, M, L      NaN      NaN  \n",
       "\n",
       "[526564 rows x 13 columns]"
      ]
     },
     "execution_count": 2,
     "metadata": {},
     "output_type": "execute_result"
    }
   ],
   "source": [
    "data = pd.read_csv('myntrafasionclothing.csv')\n",
    "data"
   ]
  },
  {
   "cell_type": "code",
   "execution_count": 3,
   "id": "8c24ecd0",
   "metadata": {},
   "outputs": [
    {
     "data": {
      "text/html": [
       "<div>\n",
       "<style scoped>\n",
       "    .dataframe tbody tr th:only-of-type {\n",
       "        vertical-align: middle;\n",
       "    }\n",
       "\n",
       "    .dataframe tbody tr th {\n",
       "        vertical-align: top;\n",
       "    }\n",
       "\n",
       "    .dataframe thead th {\n",
       "        text-align: right;\n",
       "    }\n",
       "</style>\n",
       "<table border=\"1\" class=\"dataframe\">\n",
       "  <thead>\n",
       "    <tr style=\"text-align: right;\">\n",
       "      <th></th>\n",
       "      <th>URL</th>\n",
       "      <th>Product_id</th>\n",
       "      <th>BrandName</th>\n",
       "      <th>Category</th>\n",
       "      <th>Individual_category</th>\n",
       "      <th>category_by_Gender</th>\n",
       "      <th>Description</th>\n",
       "      <th>DiscountPrice (in Rs)</th>\n",
       "      <th>OriginalPrice (in Rs)</th>\n",
       "      <th>DiscountOffer</th>\n",
       "      <th>SizeOption</th>\n",
       "      <th>Ratings</th>\n",
       "      <th>Reviews</th>\n",
       "    </tr>\n",
       "  </thead>\n",
       "  <tbody>\n",
       "    <tr>\n",
       "      <th>0</th>\n",
       "      <td>https://www.myntra.com/jeans/roadster/roadster...</td>\n",
       "      <td>2296012</td>\n",
       "      <td>Roadster</td>\n",
       "      <td>Bottom Wear</td>\n",
       "      <td>jeans</td>\n",
       "      <td>Men</td>\n",
       "      <td>roadster men navy blue slim fit mid rise clean...</td>\n",
       "      <td>824.0</td>\n",
       "      <td>1499.0</td>\n",
       "      <td>45% OFF</td>\n",
       "      <td>28, 30, 32, 34, 36</td>\n",
       "      <td>3.9</td>\n",
       "      <td>999.0</td>\n",
       "    </tr>\n",
       "    <tr>\n",
       "      <th>1</th>\n",
       "      <td>https://www.myntra.com/track-pants/locomotive/...</td>\n",
       "      <td>13780156</td>\n",
       "      <td>LOCOMOTIVE</td>\n",
       "      <td>Bottom Wear</td>\n",
       "      <td>track-pants</td>\n",
       "      <td>Men</td>\n",
       "      <td>locomotive men black  white solid slim fit tra...</td>\n",
       "      <td>517.0</td>\n",
       "      <td>1149.0</td>\n",
       "      <td>55% OFF</td>\n",
       "      <td>S, M, L, XL</td>\n",
       "      <td>4.0</td>\n",
       "      <td>999.0</td>\n",
       "    </tr>\n",
       "    <tr>\n",
       "      <th>2</th>\n",
       "      <td>https://www.myntra.com/shirts/roadster/roadste...</td>\n",
       "      <td>11895958</td>\n",
       "      <td>Roadster</td>\n",
       "      <td>Topwear</td>\n",
       "      <td>shirts</td>\n",
       "      <td>Men</td>\n",
       "      <td>roadster men navy white  black geometric print...</td>\n",
       "      <td>629.0</td>\n",
       "      <td>1399.0</td>\n",
       "      <td>55% OFF</td>\n",
       "      <td>38, 40, 42, 44, 46, 48</td>\n",
       "      <td>4.3</td>\n",
       "      <td>999.0</td>\n",
       "    </tr>\n",
       "    <tr>\n",
       "      <th>3</th>\n",
       "      <td>https://www.myntra.com/shapewear/zivame/zivame...</td>\n",
       "      <td>4335679</td>\n",
       "      <td>Zivame</td>\n",
       "      <td>Lingerie &amp; Sleep Wear</td>\n",
       "      <td>shapewear</td>\n",
       "      <td>Women</td>\n",
       "      <td>zivame women black saree shapewear zi3023core0...</td>\n",
       "      <td>893.0</td>\n",
       "      <td>1295.0</td>\n",
       "      <td>31% OFF</td>\n",
       "      <td>S, M, L, XL, XXL</td>\n",
       "      <td>4.2</td>\n",
       "      <td>999.0</td>\n",
       "    </tr>\n",
       "    <tr>\n",
       "      <th>4</th>\n",
       "      <td>https://www.myntra.com/tshirts/roadster/roadst...</td>\n",
       "      <td>11690882</td>\n",
       "      <td>Roadster</td>\n",
       "      <td>Western</td>\n",
       "      <td>tshirts</td>\n",
       "      <td>Women</td>\n",
       "      <td>roadster women white solid v neck pure cotton ...</td>\n",
       "      <td>NaN</td>\n",
       "      <td>599.0</td>\n",
       "      <td>35% OFF</td>\n",
       "      <td>XS, S, M, L, XL</td>\n",
       "      <td>4.2</td>\n",
       "      <td>999.0</td>\n",
       "    </tr>\n",
       "  </tbody>\n",
       "</table>\n",
       "</div>"
      ],
      "text/plain": [
       "                                                 URL  Product_id   BrandName  \\\n",
       "0  https://www.myntra.com/jeans/roadster/roadster...     2296012    Roadster   \n",
       "1  https://www.myntra.com/track-pants/locomotive/...    13780156  LOCOMOTIVE   \n",
       "2  https://www.myntra.com/shirts/roadster/roadste...    11895958    Roadster   \n",
       "3  https://www.myntra.com/shapewear/zivame/zivame...     4335679      Zivame   \n",
       "4  https://www.myntra.com/tshirts/roadster/roadst...    11690882    Roadster   \n",
       "\n",
       "                Category Individual_category category_by_Gender  \\\n",
       "0            Bottom Wear               jeans                Men   \n",
       "1            Bottom Wear         track-pants                Men   \n",
       "2                Topwear              shirts                Men   \n",
       "3  Lingerie & Sleep Wear           shapewear              Women   \n",
       "4                Western             tshirts              Women   \n",
       "\n",
       "                                         Description  DiscountPrice (in Rs)  \\\n",
       "0  roadster men navy blue slim fit mid rise clean...                  824.0   \n",
       "1  locomotive men black  white solid slim fit tra...                  517.0   \n",
       "2  roadster men navy white  black geometric print...                  629.0   \n",
       "3  zivame women black saree shapewear zi3023core0...                  893.0   \n",
       "4  roadster women white solid v neck pure cotton ...                    NaN   \n",
       "\n",
       "   OriginalPrice (in Rs) DiscountOffer              SizeOption  Ratings  \\\n",
       "0                 1499.0       45% OFF      28, 30, 32, 34, 36      3.9   \n",
       "1                 1149.0       55% OFF             S, M, L, XL      4.0   \n",
       "2                 1399.0       55% OFF  38, 40, 42, 44, 46, 48      4.3   \n",
       "3                 1295.0       31% OFF        S, M, L, XL, XXL      4.2   \n",
       "4                  599.0       35% OFF         XS, S, M, L, XL      4.2   \n",
       "\n",
       "   Reviews  \n",
       "0    999.0  \n",
       "1    999.0  \n",
       "2    999.0  \n",
       "3    999.0  \n",
       "4    999.0  "
      ]
     },
     "execution_count": 3,
     "metadata": {},
     "output_type": "execute_result"
    }
   ],
   "source": [
    "data.head()#displaying first 5 rows of the dataset\n"
   ]
  },
  {
   "cell_type": "code",
   "execution_count": 4,
   "id": "61fa622b",
   "metadata": {},
   "outputs": [
    {
     "data": {
      "text/html": [
       "<div>\n",
       "<style scoped>\n",
       "    .dataframe tbody tr th:only-of-type {\n",
       "        vertical-align: middle;\n",
       "    }\n",
       "\n",
       "    .dataframe tbody tr th {\n",
       "        vertical-align: top;\n",
       "    }\n",
       "\n",
       "    .dataframe thead th {\n",
       "        text-align: right;\n",
       "    }\n",
       "</style>\n",
       "<table border=\"1\" class=\"dataframe\">\n",
       "  <thead>\n",
       "    <tr style=\"text-align: right;\">\n",
       "      <th></th>\n",
       "      <th>URL</th>\n",
       "      <th>Product_id</th>\n",
       "      <th>BrandName</th>\n",
       "      <th>Category</th>\n",
       "      <th>Individual_category</th>\n",
       "      <th>category_by_Gender</th>\n",
       "      <th>Description</th>\n",
       "      <th>DiscountPrice (in Rs)</th>\n",
       "      <th>OriginalPrice (in Rs)</th>\n",
       "      <th>DiscountOffer</th>\n",
       "      <th>SizeOption</th>\n",
       "      <th>Ratings</th>\n",
       "      <th>Reviews</th>\n",
       "    </tr>\n",
       "  </thead>\n",
       "  <tbody>\n",
       "    <tr>\n",
       "      <th>526559</th>\n",
       "      <td>https://www.myntra.com/sweaters/hm/hm-women-be...</td>\n",
       "      <td>16929990</td>\n",
       "      <td>H&amp;M</td>\n",
       "      <td>Western</td>\n",
       "      <td>sweaters</td>\n",
       "      <td>Women</td>\n",
       "      <td>hm women beige oversized cashmere jumper</td>\n",
       "      <td>NaN</td>\n",
       "      <td>9999.0</td>\n",
       "      <td>NaN</td>\n",
       "      <td>XS, S, M, L</td>\n",
       "      <td>NaN</td>\n",
       "      <td>NaN</td>\n",
       "    </tr>\n",
       "    <tr>\n",
       "      <th>526560</th>\n",
       "      <td>https://www.myntra.com/jackets/hm/hm-women-bla...</td>\n",
       "      <td>16026012</td>\n",
       "      <td>H&amp;M</td>\n",
       "      <td>Western</td>\n",
       "      <td>jackets</td>\n",
       "      <td>Women</td>\n",
       "      <td>hm women black water repellent parka jacket</td>\n",
       "      <td>NaN</td>\n",
       "      <td>9999.0</td>\n",
       "      <td>NaN</td>\n",
       "      <td>XS, S, M, L, XL</td>\n",
       "      <td>NaN</td>\n",
       "      <td>NaN</td>\n",
       "    </tr>\n",
       "    <tr>\n",
       "      <th>526561</th>\n",
       "      <td>https://www.myntra.com/dresses/250-designs/250...</td>\n",
       "      <td>17654114</td>\n",
       "      <td>250 DESIGNS</td>\n",
       "      <td>Western</td>\n",
       "      <td>dresses</td>\n",
       "      <td>Women</td>\n",
       "      <td>250 designs blue lace sheath dress</td>\n",
       "      <td>NaN</td>\n",
       "      <td>9999.0</td>\n",
       "      <td>NaN</td>\n",
       "      <td>S, M, L, XL, XXL</td>\n",
       "      <td>NaN</td>\n",
       "      <td>NaN</td>\n",
       "    </tr>\n",
       "    <tr>\n",
       "      <th>526562</th>\n",
       "      <td>https://www.myntra.com/dresses/masaba/masaba-w...</td>\n",
       "      <td>12508700</td>\n",
       "      <td>Masaba</td>\n",
       "      <td>Western</td>\n",
       "      <td>dresses</td>\n",
       "      <td>Women</td>\n",
       "      <td>masaba women yellow printed a line dress</td>\n",
       "      <td>NaN</td>\n",
       "      <td>9999.0</td>\n",
       "      <td>NaN</td>\n",
       "      <td>XS, S, M, L, XL</td>\n",
       "      <td>NaN</td>\n",
       "      <td>NaN</td>\n",
       "    </tr>\n",
       "    <tr>\n",
       "      <th>526563</th>\n",
       "      <td>https://www.myntra.com/tshirts/jockey/jockey-w...</td>\n",
       "      <td>17856544</td>\n",
       "      <td>Jockey</td>\n",
       "      <td>Western</td>\n",
       "      <td>tshirts</td>\n",
       "      <td>Women</td>\n",
       "      <td>jockey women blue extended sleeves t shirt</td>\n",
       "      <td>NaN</td>\n",
       "      <td>799.0</td>\n",
       "      <td>NaN</td>\n",
       "      <td>S, M, L</td>\n",
       "      <td>NaN</td>\n",
       "      <td>NaN</td>\n",
       "    </tr>\n",
       "  </tbody>\n",
       "</table>\n",
       "</div>"
      ],
      "text/plain": [
       "                                                      URL  Product_id  \\\n",
       "526559  https://www.myntra.com/sweaters/hm/hm-women-be...    16929990   \n",
       "526560  https://www.myntra.com/jackets/hm/hm-women-bla...    16026012   \n",
       "526561  https://www.myntra.com/dresses/250-designs/250...    17654114   \n",
       "526562  https://www.myntra.com/dresses/masaba/masaba-w...    12508700   \n",
       "526563  https://www.myntra.com/tshirts/jockey/jockey-w...    17856544   \n",
       "\n",
       "          BrandName Category Individual_category category_by_Gender  \\\n",
       "526559          H&M  Western            sweaters              Women   \n",
       "526560          H&M  Western             jackets              Women   \n",
       "526561  250 DESIGNS  Western             dresses              Women   \n",
       "526562       Masaba  Western             dresses              Women   \n",
       "526563       Jockey  Western             tshirts              Women   \n",
       "\n",
       "                                        Description  DiscountPrice (in Rs)  \\\n",
       "526559     hm women beige oversized cashmere jumper                    NaN   \n",
       "526560  hm women black water repellent parka jacket                    NaN   \n",
       "526561           250 designs blue lace sheath dress                    NaN   \n",
       "526562     masaba women yellow printed a line dress                    NaN   \n",
       "526563   jockey women blue extended sleeves t shirt                    NaN   \n",
       "\n",
       "        OriginalPrice (in Rs) DiscountOffer        SizeOption  Ratings  \\\n",
       "526559                 9999.0           NaN       XS, S, M, L      NaN   \n",
       "526560                 9999.0           NaN   XS, S, M, L, XL      NaN   \n",
       "526561                 9999.0           NaN  S, M, L, XL, XXL      NaN   \n",
       "526562                 9999.0           NaN   XS, S, M, L, XL      NaN   \n",
       "526563                  799.0           NaN           S, M, L      NaN   \n",
       "\n",
       "        Reviews  \n",
       "526559      NaN  \n",
       "526560      NaN  \n",
       "526561      NaN  \n",
       "526562      NaN  \n",
       "526563      NaN  "
      ]
     },
     "execution_count": 4,
     "metadata": {},
     "output_type": "execute_result"
    }
   ],
   "source": [
    "data.tail()# displaying last 5 rows of dataset"
   ]
  },
  {
   "cell_type": "code",
   "execution_count": 5,
   "id": "52da5072",
   "metadata": {},
   "outputs": [
    {
     "data": {
      "text/plain": [
       "(526564, 13)"
      ]
     },
     "execution_count": 5,
     "metadata": {},
     "output_type": "execute_result"
    }
   ],
   "source": [
    "#find shape of the dataset(number of rows and columns)\n",
    "data.shape"
   ]
  },
  {
   "cell_type": "code",
   "execution_count": 6,
   "id": "eadadc52",
   "metadata": {},
   "outputs": [
    {
     "name": "stdout",
     "output_type": "stream",
     "text": [
      "<class 'pandas.core.frame.DataFrame'>\n",
      "RangeIndex: 526564 entries, 0 to 526563\n",
      "Data columns (total 13 columns):\n",
      " #   Column                 Non-Null Count   Dtype  \n",
      "---  ------                 --------------   -----  \n",
      " 0   URL                    526564 non-null  object \n",
      " 1   Product_id             526564 non-null  int64  \n",
      " 2   BrandName              526564 non-null  object \n",
      " 3   Category               526564 non-null  object \n",
      " 4   Individual_category    526564 non-null  object \n",
      " 5   category_by_Gender     526564 non-null  object \n",
      " 6   Description            526564 non-null  object \n",
      " 7   DiscountPrice (in Rs)  333406 non-null  float64\n",
      " 8   OriginalPrice (in Rs)  526564 non-null  float64\n",
      " 9   DiscountOffer          452258 non-null  object \n",
      " 10  SizeOption             526564 non-null  object \n",
      " 11  Ratings                190412 non-null  float64\n",
      " 12  Reviews                190412 non-null  float64\n",
      "dtypes: float64(4), int64(1), object(8)\n",
      "memory usage: 52.2+ MB\n"
     ]
    }
   ],
   "source": [
    "#getting the information about the dataset(number of rows and columns,data types of each column and memory requiremeent)\n",
    "data.info()"
   ]
  },
  {
   "cell_type": "code",
   "execution_count": 7,
   "id": "13061f2a",
   "metadata": {},
   "outputs": [
    {
     "data": {
      "text/plain": [
       "URL                           0\n",
       "Product_id                    0\n",
       "BrandName                     0\n",
       "Category                      0\n",
       "Individual_category           0\n",
       "category_by_Gender            0\n",
       "Description                   0\n",
       "DiscountPrice (in Rs)    193158\n",
       "OriginalPrice (in Rs)         0\n",
       "DiscountOffer             74306\n",
       "SizeOption                    0\n",
       "Ratings                  336152\n",
       "Reviews                  336152\n",
       "dtype: int64"
      ]
     },
     "execution_count": 7,
     "metadata": {},
     "output_type": "execute_result"
    }
   ],
   "source": [
    "#finding null values\n",
    "data.isna().sum()# null values"
   ]
  },
  {
   "cell_type": "code",
   "execution_count": 8,
   "id": "468f8b5e",
   "metadata": {},
   "outputs": [
    {
     "name": "stdout",
     "output_type": "stream",
     "text": [
      "Index(['URL', 'Product_id', 'BrandName', 'Category', 'Individual_category',\n",
      "       'category_by_Gender', 'Description', 'DiscountPrice (in Rs)',\n",
      "       'OriginalPrice (in Rs)', 'DiscountOffer', 'SizeOption', 'Ratings',\n",
      "       'Reviews'],\n",
      "      dtype='object')\n"
     ]
    }
   ],
   "source": [
    "print(data.columns)"
   ]
  },
  {
   "cell_type": "code",
   "execution_count": 9,
   "id": "e2d2853e",
   "metadata": {},
   "outputs": [
    {
     "name": "stdout",
     "output_type": "stream",
     "text": [
      "                                                      URL  Product_id  \\\n",
      "0       https://www.myntra.com/jeans/roadster/roadster...     2296012   \n",
      "1       https://www.myntra.com/track-pants/locomotive/...    13780156   \n",
      "2       https://www.myntra.com/shirts/roadster/roadste...    11895958   \n",
      "3       https://www.myntra.com/shapewear/zivame/zivame...     4335679   \n",
      "4       https://www.myntra.com/tshirts/roadster/roadst...    11690882   \n",
      "...                                                   ...         ...   \n",
      "526559  https://www.myntra.com/sweaters/hm/hm-women-be...    16929990   \n",
      "526560  https://www.myntra.com/jackets/hm/hm-women-bla...    16026012   \n",
      "526561  https://www.myntra.com/dresses/250-designs/250...    17654114   \n",
      "526562  https://www.myntra.com/dresses/masaba/masaba-w...    12508700   \n",
      "526563  https://www.myntra.com/tshirts/jockey/jockey-w...    17856544   \n",
      "\n",
      "          BrandName               Category Individual_category  \\\n",
      "0          Roadster            Bottom Wear               jeans   \n",
      "1        LOCOMOTIVE            Bottom Wear         track-pants   \n",
      "2          Roadster                Topwear              shirts   \n",
      "3            Zivame  Lingerie & Sleep Wear           shapewear   \n",
      "4          Roadster                Western             tshirts   \n",
      "...             ...                    ...                 ...   \n",
      "526559          H&M                Western            sweaters   \n",
      "526560          H&M                Western             jackets   \n",
      "526561  250 DESIGNS                Western             dresses   \n",
      "526562       Masaba                Western             dresses   \n",
      "526563       Jockey                Western             tshirts   \n",
      "\n",
      "       category_by_Gender                                        Description  \\\n",
      "0                     Men  roadster men navy blue slim fit mid rise clean...   \n",
      "1                     Men  locomotive men black  white solid slim fit tra...   \n",
      "2                     Men  roadster men navy white  black geometric print...   \n",
      "3                   Women  zivame women black saree shapewear zi3023core0...   \n",
      "4                   Women  roadster women white solid v neck pure cotton ...   \n",
      "...                   ...                                                ...   \n",
      "526559              Women           hm women beige oversized cashmere jumper   \n",
      "526560              Women        hm women black water repellent parka jacket   \n",
      "526561              Women                 250 designs blue lace sheath dress   \n",
      "526562              Women           masaba women yellow printed a line dress   \n",
      "526563              Women         jockey women blue extended sleeves t shirt   \n",
      "\n",
      "        Discount_Price  OriginalPrice DiscountOffer              SizeOption  \\\n",
      "0                824.0         1499.0       45% OFF      28, 30, 32, 34, 36   \n",
      "1                517.0         1149.0       55% OFF             S, M, L, XL   \n",
      "2                629.0         1399.0       55% OFF  38, 40, 42, 44, 46, 48   \n",
      "3                893.0         1295.0       31% OFF        S, M, L, XL, XXL   \n",
      "4                  NaN          599.0       35% OFF         XS, S, M, L, XL   \n",
      "...                ...            ...           ...                     ...   \n",
      "526559             NaN         9999.0           NaN             XS, S, M, L   \n",
      "526560             NaN         9999.0           NaN         XS, S, M, L, XL   \n",
      "526561             NaN         9999.0           NaN        S, M, L, XL, XXL   \n",
      "526562             NaN         9999.0           NaN         XS, S, M, L, XL   \n",
      "526563             NaN          799.0           NaN                 S, M, L   \n",
      "\n",
      "        Ratings  Reviews  \n",
      "0           3.9    999.0  \n",
      "1           4.0    999.0  \n",
      "2           4.3    999.0  \n",
      "3           4.2    999.0  \n",
      "4           4.2    999.0  \n",
      "...         ...      ...  \n",
      "526559      NaN      NaN  \n",
      "526560      NaN      NaN  \n",
      "526561      NaN      NaN  \n",
      "526562      NaN      NaN  \n",
      "526563      NaN      NaN  \n",
      "\n",
      "[526564 rows x 13 columns]\n"
     ]
    }
   ],
   "source": [
    "data.rename(columns={'DiscountPrice (in Rs)': 'Discount_Price','OriginalPrice (in Rs)': 'OriginalPrice'}, inplace=True)\n",
    "print(data)\n"
   ]
  },
  {
   "cell_type": "code",
   "execution_count": 10,
   "id": "963b432d",
   "metadata": {},
   "outputs": [
    {
     "name": "stdout",
     "output_type": "stream",
     "text": [
      "0         824.0\n",
      "1         517.0\n",
      "2         629.0\n",
      "3         893.0\n",
      "4           NaN\n",
      "          ...  \n",
      "526559      NaN\n",
      "526560      NaN\n",
      "526561      NaN\n",
      "526562      NaN\n",
      "526563      NaN\n",
      "Name: Discount_Price, Length: 526564, dtype: float64\n"
     ]
    }
   ],
   "source": [
    "print(data['Discount_Price'])"
   ]
  },
  {
   "cell_type": "code",
   "execution_count": 11,
   "id": "93805a41",
   "metadata": {},
   "outputs": [
    {
     "name": "stdout",
     "output_type": "stream",
     "text": [
      "        Discount_Price DiscountOffer\n",
      "0                824.0       45% OFF\n",
      "1                517.0       55% OFF\n",
      "2                629.0       55% OFF\n",
      "3                893.0       31% OFF\n",
      "4                  NaN       35% OFF\n",
      "...                ...           ...\n",
      "526559             NaN           NaN\n",
      "526560             NaN           NaN\n",
      "526561             NaN           NaN\n",
      "526562             NaN           NaN\n",
      "526563             NaN           NaN\n",
      "\n",
      "[526564 rows x 2 columns]\n"
     ]
    }
   ],
   "source": [
    "# Select and print the 'original_price' and 'discount_price' columns\n",
    "print(data[['Discount_Price', 'DiscountOffer']])\n"
   ]
  },
  {
   "cell_type": "code",
   "execution_count": 12,
   "id": "13079f7a",
   "metadata": {},
   "outputs": [
    {
     "name": "stdout",
     "output_type": "stream",
     "text": [
      "                                                      URL  Product_id  \\\n",
      "0       https://www.myntra.com/jeans/roadster/roadster...     2296012   \n",
      "1       https://www.myntra.com/track-pants/locomotive/...    13780156   \n",
      "2       https://www.myntra.com/shirts/roadster/roadste...    11895958   \n",
      "3       https://www.myntra.com/shapewear/zivame/zivame...     4335679   \n",
      "4       https://www.myntra.com/tshirts/roadster/roadst...    11690882   \n",
      "...                                                   ...         ...   \n",
      "526559  https://www.myntra.com/sweaters/hm/hm-women-be...    16929990   \n",
      "526560  https://www.myntra.com/jackets/hm/hm-women-bla...    16026012   \n",
      "526561  https://www.myntra.com/dresses/250-designs/250...    17654114   \n",
      "526562  https://www.myntra.com/dresses/masaba/masaba-w...    12508700   \n",
      "526563  https://www.myntra.com/tshirts/jockey/jockey-w...    17856544   \n",
      "\n",
      "          BrandName               Category Individual_category  \\\n",
      "0          Roadster            Bottom Wear               jeans   \n",
      "1        LOCOMOTIVE            Bottom Wear         track-pants   \n",
      "2          Roadster                Topwear              shirts   \n",
      "3            Zivame  Lingerie & Sleep Wear           shapewear   \n",
      "4          Roadster                Western             tshirts   \n",
      "...             ...                    ...                 ...   \n",
      "526559          H&M                Western            sweaters   \n",
      "526560          H&M                Western             jackets   \n",
      "526561  250 DESIGNS                Western             dresses   \n",
      "526562       Masaba                Western             dresses   \n",
      "526563       Jockey                Western             tshirts   \n",
      "\n",
      "       category_by_Gender                                        Description  \\\n",
      "0                     Men  roadster men navy blue slim fit mid rise clean...   \n",
      "1                     Men  locomotive men black  white solid slim fit tra...   \n",
      "2                     Men  roadster men navy white  black geometric print...   \n",
      "3                   Women  zivame women black saree shapewear zi3023core0...   \n",
      "4                   Women  roadster women white solid v neck pure cotton ...   \n",
      "...                   ...                                                ...   \n",
      "526559              Women           hm women beige oversized cashmere jumper   \n",
      "526560              Women        hm women black water repellent parka jacket   \n",
      "526561              Women                 250 designs blue lace sheath dress   \n",
      "526562              Women           masaba women yellow printed a line dress   \n",
      "526563              Women         jockey women blue extended sleeves t shirt   \n",
      "\n",
      "        Discount_Price  OriginalPrice DiscountOffer              SizeOption  \\\n",
      "0                824.0         1499.0       45% OFF      28, 30, 32, 34, 36   \n",
      "1                517.0         1149.0       55% OFF             S, M, L, XL   \n",
      "2                629.0         1399.0       55% OFF  38, 40, 42, 44, 46, 48   \n",
      "3                893.0         1295.0       31% OFF        S, M, L, XL, XXL   \n",
      "4                  0.0          599.0       35% OFF         XS, S, M, L, XL   \n",
      "...                ...            ...           ...                     ...   \n",
      "526559             0.0         9999.0             0             XS, S, M, L   \n",
      "526560             0.0         9999.0             0         XS, S, M, L, XL   \n",
      "526561             0.0         9999.0             0        S, M, L, XL, XXL   \n",
      "526562             0.0         9999.0             0         XS, S, M, L, XL   \n",
      "526563             0.0          799.0             0                 S, M, L   \n",
      "\n",
      "        Ratings  Reviews  \n",
      "0           3.9    999.0  \n",
      "1           4.0    999.0  \n",
      "2           4.3    999.0  \n",
      "3           4.2    999.0  \n",
      "4           4.2    999.0  \n",
      "...         ...      ...  \n",
      "526559      NaN      NaN  \n",
      "526560      NaN      NaN  \n",
      "526561      NaN      NaN  \n",
      "526562      NaN      NaN  \n",
      "526563      NaN      NaN  \n",
      "\n",
      "[526564 rows x 13 columns]\n"
     ]
    }
   ],
   "source": [
    "data.fillna({'Discount_Price': 0, 'DiscountOffer': 0}, inplace=True)\n",
    "print(data)"
   ]
  },
  {
   "cell_type": "code",
   "execution_count": 13,
   "id": "ba995272",
   "metadata": {},
   "outputs": [
    {
     "name": "stdout",
     "output_type": "stream",
     "text": [
      "        Ratings  Reviews\n",
      "0           3.9    999.0\n",
      "1           4.0    999.0\n",
      "2           4.3    999.0\n",
      "3           4.2    999.0\n",
      "4           4.2    999.0\n",
      "...         ...      ...\n",
      "526559      NaN      NaN\n",
      "526560      NaN      NaN\n",
      "526561      NaN      NaN\n",
      "526562      NaN      NaN\n",
      "526563      NaN      NaN\n",
      "\n",
      "[526564 rows x 2 columns]\n"
     ]
    }
   ],
   "source": [
    "print(data[['Ratings', 'Reviews']])"
   ]
  },
  {
   "cell_type": "code",
   "execution_count": 14,
   "id": "50032c9f",
   "metadata": {},
   "outputs": [
    {
     "name": "stdout",
     "output_type": "stream",
     "text": [
      "                                                      URL  Product_id  \\\n",
      "0       https://www.myntra.com/jeans/roadster/roadster...     2296012   \n",
      "1       https://www.myntra.com/track-pants/locomotive/...    13780156   \n",
      "2       https://www.myntra.com/shirts/roadster/roadste...    11895958   \n",
      "3       https://www.myntra.com/shapewear/zivame/zivame...     4335679   \n",
      "4       https://www.myntra.com/tshirts/roadster/roadst...    11690882   \n",
      "...                                                   ...         ...   \n",
      "526559  https://www.myntra.com/sweaters/hm/hm-women-be...    16929990   \n",
      "526560  https://www.myntra.com/jackets/hm/hm-women-bla...    16026012   \n",
      "526561  https://www.myntra.com/dresses/250-designs/250...    17654114   \n",
      "526562  https://www.myntra.com/dresses/masaba/masaba-w...    12508700   \n",
      "526563  https://www.myntra.com/tshirts/jockey/jockey-w...    17856544   \n",
      "\n",
      "          BrandName               Category Individual_category  \\\n",
      "0          Roadster            Bottom Wear               jeans   \n",
      "1        LOCOMOTIVE            Bottom Wear         track-pants   \n",
      "2          Roadster                Topwear              shirts   \n",
      "3            Zivame  Lingerie & Sleep Wear           shapewear   \n",
      "4          Roadster                Western             tshirts   \n",
      "...             ...                    ...                 ...   \n",
      "526559          H&M                Western            sweaters   \n",
      "526560          H&M                Western             jackets   \n",
      "526561  250 DESIGNS                Western             dresses   \n",
      "526562       Masaba                Western             dresses   \n",
      "526563       Jockey                Western             tshirts   \n",
      "\n",
      "       category_by_Gender                                        Description  \\\n",
      "0                     Men  roadster men navy blue slim fit mid rise clean...   \n",
      "1                     Men  locomotive men black  white solid slim fit tra...   \n",
      "2                     Men  roadster men navy white  black geometric print...   \n",
      "3                   Women  zivame women black saree shapewear zi3023core0...   \n",
      "4                   Women  roadster women white solid v neck pure cotton ...   \n",
      "...                   ...                                                ...   \n",
      "526559              Women           hm women beige oversized cashmere jumper   \n",
      "526560              Women        hm women black water repellent parka jacket   \n",
      "526561              Women                 250 designs blue lace sheath dress   \n",
      "526562              Women           masaba women yellow printed a line dress   \n",
      "526563              Women         jockey women blue extended sleeves t shirt   \n",
      "\n",
      "        Discount_Price  OriginalPrice DiscountOffer              SizeOption  \\\n",
      "0                824.0         1499.0       45% OFF      28, 30, 32, 34, 36   \n",
      "1                517.0         1149.0       55% OFF             S, M, L, XL   \n",
      "2                629.0         1399.0       55% OFF  38, 40, 42, 44, 46, 48   \n",
      "3                893.0         1295.0       31% OFF        S, M, L, XL, XXL   \n",
      "4                  0.0          599.0       35% OFF         XS, S, M, L, XL   \n",
      "...                ...            ...           ...                     ...   \n",
      "526559             0.0         9999.0             0             XS, S, M, L   \n",
      "526560             0.0         9999.0             0         XS, S, M, L, XL   \n",
      "526561             0.0         9999.0             0        S, M, L, XL, XXL   \n",
      "526562             0.0         9999.0             0         XS, S, M, L, XL   \n",
      "526563             0.0          799.0             0                 S, M, L   \n",
      "\n",
      "        Ratings  Reviews  \n",
      "0           3.9    999.0  \n",
      "1           4.0    999.0  \n",
      "2           4.3    999.0  \n",
      "3           4.2    999.0  \n",
      "4           4.2    999.0  \n",
      "...         ...      ...  \n",
      "526559      0.0      0.0  \n",
      "526560      0.0      0.0  \n",
      "526561      0.0      0.0  \n",
      "526562      0.0      0.0  \n",
      "526563      0.0      0.0  \n",
      "\n",
      "[526564 rows x 13 columns]\n"
     ]
    }
   ],
   "source": [
    "data.fillna({'Ratings': 0, 'Reviews': 0}, inplace=True)\n",
    "print(data)"
   ]
  },
  {
   "cell_type": "code",
   "execution_count": 15,
   "id": "b1dc5e21",
   "metadata": {},
   "outputs": [
    {
     "data": {
      "text/plain": [
       "array(['Bottom Wear', 'Topwear', 'Lingerie & Sleep Wear', 'Western',\n",
       "       'Sports Wear', 'Indian Wear', 'Plus Size',\n",
       "       'Inner Wear &  Sleep Wear'], dtype=object)"
      ]
     },
     "execution_count": 15,
     "metadata": {},
     "output_type": "execute_result"
    }
   ],
   "source": [
    "#find unique values present in the column 'Category'\n",
    "data.Category.unique()"
   ]
  },
  {
   "cell_type": "code",
   "execution_count": 16,
   "id": "abd0fc6b",
   "metadata": {},
   "outputs": [
    {
     "data": {
      "text/plain": [
       "Indian Wear                 145845\n",
       "Western                     140992\n",
       "Topwear                      74537\n",
       "Bottom Wear                  55439\n",
       "Lingerie & Sleep Wear        55258\n",
       "Sports Wear                  20627\n",
       "Inner Wear &  Sleep Wear     20370\n",
       "Plus Size                    13496\n",
       "Name: Category, dtype: int64"
      ]
     },
     "execution_count": 16,
     "metadata": {},
     "output_type": "execute_result"
    }
   ],
   "source": [
    "#find value counts\n",
    "data['Category'].value_counts()"
   ]
  },
  {
   "cell_type": "code",
   "execution_count": 17,
   "id": "493f50a2",
   "metadata": {},
   "outputs": [
    {
     "data": {
      "text/plain": [
       "array(['jeans', 'track-pants', 'shirts', 'shapewear', 'tshirts', 'tops',\n",
       "       'trousers', 'tights', 'kurta-sets', 'jumpsuit', 'kurtas', 'bra',\n",
       "       'shorts', 'dresses', 'bath-robe', 'jackets', 'socks', 'briefs',\n",
       "       'sweatshirts', 'sarees', 'trunk', 'kurtis', 'skirts',\n",
       "       'night-suits', 'lounge-pants', 'palazzos', 'stockings', 'jeggings',\n",
       "       'leggings', 'shrug', 'boxers', 'dupatta', 'tunics',\n",
       "       'innerwear-vests', 'sweaters', 'lounge-shorts', 'thermal-tops',\n",
       "       'capris', 'nightdress', 'pyjamas', 'sports-sandals', 'dungarees',\n",
       "       'tracksuits', 'camisoles', 'nehru-jackets', 'blazers',\n",
       "       'thermal-bottoms', 'lounge-tshirts', 'lehenga-choli', 'baby-dolls',\n",
       "       'coats', 'thermal-set', 'saree-blouse', 'churidar',\n",
       "       'dress-material', 'boots', 'lingerie-set', 'sherwani', 'co-ords',\n",
       "       'flats', 'swimwear', 'rain-jacket', 'patiala', 'salwar',\n",
       "       'harem-pants', 'patiala-and-dupatta', 'lingerie-accessories',\n",
       "       'saree-accessories', 'suits', 'dhotis', 'shawl', 'swim-bottoms',\n",
       "       'outdoor-masks', 'stoles', 'clothing-set', 'robe', 'earrings',\n",
       "       'casual-shoes', 'salwar-and-dupatta', 'scarves', 'slips',\n",
       "       'waistcoat', 'burqas', 'necklace-and-chains', 'hair-accessory',\n",
       "       'sleepsuit', 'heels', 'lungi', 'bracelet', 'jewellery-set',\n",
       "       'handbags', 'flip-flops'], dtype=object)"
      ]
     },
     "execution_count": 17,
     "metadata": {},
     "output_type": "execute_result"
    }
   ],
   "source": [
    "#find unique values present in the column 'Individual_category'\n",
    "data.Individual_category.unique()"
   ]
  },
  {
   "cell_type": "code",
   "execution_count": 18,
   "id": "8a4bf999",
   "metadata": {},
   "outputs": [
    {
     "data": {
      "text/plain": [
       "tshirts           61198\n",
       "sarees            57915\n",
       "tops              39126\n",
       "kurtas            38984\n",
       "dresses           35590\n",
       "                  ...  \n",
       "jewellery-set         2\n",
       "hair-accessory        1\n",
       "lungi                 1\n",
       "bracelet              1\n",
       "flip-flops            1\n",
       "Name: Individual_category, Length: 92, dtype: int64"
      ]
     },
     "execution_count": 18,
     "metadata": {},
     "output_type": "execute_result"
    }
   ],
   "source": [
    "#find value counts\n",
    "data['Individual_category'].value_counts()"
   ]
  },
  {
   "cell_type": "code",
   "execution_count": 19,
   "id": "79256d80",
   "metadata": {},
   "outputs": [
    {
     "data": {
      "text/plain": [
       "array(['Men', 'Women'], dtype=object)"
      ]
     },
     "execution_count": 19,
     "metadata": {},
     "output_type": "execute_result"
    }
   ],
   "source": [
    "#find unique values present in the column 'category_by_Gender'\n",
    "data.category_by_Gender.unique()"
   ]
  },
  {
   "cell_type": "code",
   "execution_count": 20,
   "id": "4b8b31ce",
   "metadata": {},
   "outputs": [
    {
     "data": {
      "text/plain": [
       "Women    339185\n",
       "Men      187379\n",
       "Name: category_by_Gender, dtype: int64"
      ]
     },
     "execution_count": 20,
     "metadata": {},
     "output_type": "execute_result"
    }
   ],
   "source": [
    "#find value counts\n",
    "data['category_by_Gender'].value_counts()"
   ]
  },
  {
   "cell_type": "code",
   "execution_count": 32,
   "id": "c5352038",
   "metadata": {},
   "outputs": [
    {
     "data": {
      "text/plain": [
       "array(['Roadster', 'LOCOMOTIVE', 'Zivame', ..., 'Doodlage', 'CHOZI',\n",
       "       'STATUS MANTRA'], dtype=object)"
      ]
     },
     "execution_count": 32,
     "metadata": {},
     "output_type": "execute_result"
    }
   ],
   "source": [
    "#find unique values present in the column 'Individual_category'\n",
    "data.BrandName.unique()"
   ]
  },
  {
   "cell_type": "code",
   "execution_count": 33,
   "id": "ef9d75cd",
   "metadata": {},
   "outputs": [
    {
     "data": {
      "text/plain": [
       "Pothys                   16005\n",
       "Roadster                 10935\n",
       "KALINI                    9589\n",
       "HERE&NOW                  6515\n",
       "HRX by Hrithik Roshan     5297\n",
       "                         ...  \n",
       "PIVOTO                       1\n",
       "PEONY SMART WORLD            1\n",
       "OFFIRA TEX WORLD             1\n",
       "Sztori Garfield              1\n",
       "Geonaute By Decathlon        1\n",
       "Name: BrandName, Length: 2088, dtype: int64"
      ]
     },
     "execution_count": 33,
     "metadata": {},
     "output_type": "execute_result"
    }
   ],
   "source": [
    "#find value counts\n",
    "data['BrandName'].value_counts()"
   ]
  },
  {
   "cell_type": "code",
   "execution_count": 21,
   "id": "c6f770da",
   "metadata": {},
   "outputs": [
    {
     "data": {
      "text/html": [
       "<div>\n",
       "<style scoped>\n",
       "    .dataframe tbody tr th:only-of-type {\n",
       "        vertical-align: middle;\n",
       "    }\n",
       "\n",
       "    .dataframe tbody tr th {\n",
       "        vertical-align: top;\n",
       "    }\n",
       "\n",
       "    .dataframe thead th {\n",
       "        text-align: right;\n",
       "    }\n",
       "</style>\n",
       "<table border=\"1\" class=\"dataframe\">\n",
       "  <thead>\n",
       "    <tr style=\"text-align: right;\">\n",
       "      <th></th>\n",
       "      <th>Product_id</th>\n",
       "      <th>Discount_Price</th>\n",
       "      <th>OriginalPrice</th>\n",
       "      <th>Ratings</th>\n",
       "      <th>Reviews</th>\n",
       "    </tr>\n",
       "  </thead>\n",
       "  <tbody>\n",
       "    <tr>\n",
       "      <th>count</th>\n",
       "      <td>5.265640e+05</td>\n",
       "      <td>526564.000000</td>\n",
       "      <td>526564.000000</td>\n",
       "      <td>526564.000000</td>\n",
       "      <td>526564.000000</td>\n",
       "    </tr>\n",
       "    <tr>\n",
       "      <th>mean</th>\n",
       "      <td>1.506939e+07</td>\n",
       "      <td>783.516131</td>\n",
       "      <td>2414.068615</td>\n",
       "      <td>1.480763</td>\n",
       "      <td>22.416641</td>\n",
       "    </tr>\n",
       "    <tr>\n",
       "      <th>std</th>\n",
       "      <td>3.225710e+06</td>\n",
       "      <td>1027.851892</td>\n",
       "      <td>1916.962914</td>\n",
       "      <td>1.989778</td>\n",
       "      <td>81.253156</td>\n",
       "    </tr>\n",
       "    <tr>\n",
       "      <th>min</th>\n",
       "      <td>2.739900e+04</td>\n",
       "      <td>0.000000</td>\n",
       "      <td>99.000000</td>\n",
       "      <td>0.000000</td>\n",
       "      <td>0.000000</td>\n",
       "    </tr>\n",
       "    <tr>\n",
       "      <th>25%</th>\n",
       "      <td>1.388053e+07</td>\n",
       "      <td>0.000000</td>\n",
       "      <td>1299.000000</td>\n",
       "      <td>0.000000</td>\n",
       "      <td>0.000000</td>\n",
       "    </tr>\n",
       "    <tr>\n",
       "      <th>50%</th>\n",
       "      <td>1.597106e+07</td>\n",
       "      <td>609.000000</td>\n",
       "      <td>1999.000000</td>\n",
       "      <td>0.000000</td>\n",
       "      <td>0.000000</td>\n",
       "    </tr>\n",
       "    <tr>\n",
       "      <th>75%</th>\n",
       "      <td>1.734741e+07</td>\n",
       "      <td>1120.000000</td>\n",
       "      <td>2899.000000</td>\n",
       "      <td>4.000000</td>\n",
       "      <td>9.000000</td>\n",
       "    </tr>\n",
       "    <tr>\n",
       "      <th>max</th>\n",
       "      <td>1.846435e+07</td>\n",
       "      <td>27996.000000</td>\n",
       "      <td>90000.000000</td>\n",
       "      <td>5.000000</td>\n",
       "      <td>999.000000</td>\n",
       "    </tr>\n",
       "  </tbody>\n",
       "</table>\n",
       "</div>"
      ],
      "text/plain": [
       "         Product_id  Discount_Price  OriginalPrice        Ratings  \\\n",
       "count  5.265640e+05   526564.000000  526564.000000  526564.000000   \n",
       "mean   1.506939e+07      783.516131    2414.068615       1.480763   \n",
       "std    3.225710e+06     1027.851892    1916.962914       1.989778   \n",
       "min    2.739900e+04        0.000000      99.000000       0.000000   \n",
       "25%    1.388053e+07        0.000000    1299.000000       0.000000   \n",
       "50%    1.597106e+07      609.000000    1999.000000       0.000000   \n",
       "75%    1.734741e+07     1120.000000    2899.000000       4.000000   \n",
       "max    1.846435e+07    27996.000000   90000.000000       5.000000   \n",
       "\n",
       "             Reviews  \n",
       "count  526564.000000  \n",
       "mean       22.416641  \n",
       "std        81.253156  \n",
       "min         0.000000  \n",
       "25%         0.000000  \n",
       "50%         0.000000  \n",
       "75%         9.000000  \n",
       "max       999.000000  "
      ]
     },
     "execution_count": 21,
     "metadata": {},
     "output_type": "execute_result"
    }
   ],
   "source": [
    "data.describe()"
   ]
  },
  {
   "cell_type": "code",
   "execution_count": 22,
   "id": "df6d8b4f",
   "metadata": {},
   "outputs": [
    {
     "data": {
      "image/png": "[encoded data removed]",
      "text/plain": [
       "<Figure size 432x288 with 1 Axes>"
      ]
     },
     "metadata": {
      "needs_background": "light"
     },
     "output_type": "display_data"
    }
   ],
   "source": [
    "# Plot the value counts of the 'Reviews' column\n",
    "data['Ratings'].value_counts().plot(kind='bar')\n",
    "plt.title('Distribution of Ratings')\n",
    "plt.xlabel('Review Rating')\n",
    "plt.ylabel('Frequency')\n",
    "plt.show()"
   ]
  },
  {
   "cell_type": "code",
   "execution_count": 24,
   "id": "f1438aa4",
   "metadata": {},
   "outputs": [
    {
     "data": {
      "text/plain": [
       "<AxesSubplot:>"
      ]
     },
     "execution_count": 24,
     "metadata": {},
     "output_type": "execute_result"
    },
    {
     "data": {
      "image/png": "[encoded data removed]",
      "text/plain": [
       "<Figure size 432x288 with 1 Axes>"
      ]
     },
     "metadata": {
      "needs_background": "light"
     },
     "output_type": "display_data"
    }
   ],
   "source": [
    "#create a plot of the frequency distribution of the values in the 'Reviews' column\n",
    "data['Reviews'].value_counts().plot()"
   ]
  },
  {
   "cell_type": "code",
   "execution_count": 25,
   "id": "1b9b7533",
   "metadata": {},
   "outputs": [
    {
     "name": "stdout",
     "output_type": "stream",
     "text": [
      "Number of duplicated Product IDs: 0\n"
     ]
    }
   ],
   "source": [
    "#Analyze the distribution of products from product id\n",
    "#To analyze the distribution of products based on Product_id, you can check for any duplicated IDs and plot the count of each Product_id to see how many times each product appears in your dataset. This is useful for identifying if some products are overrepresented or if there are any potential data quality issues.\n",
    "#Check for Duplicated Product IDs\n",
    "duplicated_product_ids = data['Product_id'].duplicated().sum()\n",
    "print(f\"Number of duplicated Product IDs: {duplicated_product_ids}\")"
   ]
  },
  {
   "cell_type": "code",
   "execution_count": 26,
   "id": "d9d5c0cd",
   "metadata": {},
   "outputs": [
    {
     "data": {
      "image/png": "[encoded data removed]",
      "text/plain": [
       "<Figure size 720x432 with 1 Axes>"
      ]
     },
     "metadata": {
      "needs_background": "light"
     },
     "output_type": "display_data"
    }
   ],
   "source": [
    "#Plot the Distribution of Product IDs\n",
    "## Count the frequency of each Product ID\n",
    "product_id_counts = data['Product_id'].value_counts()\n",
    "\n",
    "# Plot the top 20 most frequent Product IDs for better visualization\n",
    "plt.figure(figsize=(10, 6))\n",
    "sns.barplot(x=product_id_counts.index[:20], y=product_id_counts.values[:20], palette='viridis')\n",
    "plt.title('Top 20 Product IDs by Frequency')\n",
    "plt.xlabel('Product ID')\n",
    "plt.ylabel('Frequency')\n",
    "plt.xticks(rotation=90)  # Rotate x-axis labels for better readability\n",
    "plt.show()"
   ]
  },
  {
   "cell_type": "code",
   "execution_count": 27,
   "id": "52af0fe1",
   "metadata": {},
   "outputs": [
    {
     "data": {
      "image/png": "[encoded data removed]",
      "text/plain": [
       "<Figure size 864x576 with 1 Axes>"
      ]
     },
     "metadata": {
      "needs_background": "light"
     },
     "output_type": "display_data"
    }
   ],
   "source": [
    "#Analyze the Entire Distribution\n",
    "# Plot the entire distribution of Product IDs\n",
    "plt.figure(figsize=(12, 8))\n",
    "sns.histplot(product_id_counts, bins=30, kde=True)\n",
    "plt.title('Distribution of Product ID Frequencies')\n",
    "plt.xlabel('Frequency of Product ID')\n",
    "plt.ylabel('Number of Product IDs')\n",
    "plt.show()"
   ]
  },
  {
   "cell_type": "code",
   "execution_count": 31,
   "id": "4d1887c0",
   "metadata": {},
   "outputs": [
    {
     "name": "stdout",
     "output_type": "stream",
     "text": [
      "Average Discount Percentage by Brand:\n",
      "BrandName\n",
      "MERCHE                100.000000\n",
      "John Players          100.000000\n",
      "LUX MAESTRO           100.000000\n",
      "LY2                   100.000000\n",
      "La Aimee              100.000000\n",
      "                         ...    \n",
      "Sudarshan Silks         5.017239\n",
      "FAVOROSKI               5.000972\n",
      "BODYCARE INSIDER        3.111431\n",
      "Ayaki                   3.028343\n",
      "SUBEA By Decathlon      2.500676\n",
      "Name: DiscountOffer, Length: 2088, dtype: float64\n"
     ]
    }
   ],
   "source": [
    "#Determine which brands offer the most discounts.\n",
    "data['DiscountOffer'] = pd.to_numeric(data['DiscountOffer'], errors='coerce') #Convert 'DiscountOffer' to float\n",
    "# Calculate discount percentage\n",
    "data['DiscountOffer'] = (data['OriginalPrice'] - data['Discount_Price']) / data['OriginalPrice'] * 100\n",
    "\n",
    "# Calculate average discount percentage per brand\n",
    "average_discount_by_brand = data.groupby('BrandName')['DiscountOffer'].mean().sort_values(ascending=False)\n",
    "\n",
    "print(\"Average Discount Percentage by Brand:\")\n",
    "print(average_discount_by_brand)\n"
   ]
  },
  {
   "cell_type": "code",
   "execution_count": 38,
   "id": "6187f4ed",
   "metadata": {},
   "outputs": [
    {
     "data": {
      "text/plain": [
       "<AxesSubplot:>"
      ]
     },
     "execution_count": 38,
     "metadata": {},
     "output_type": "execute_result"
    },
    {
     "data": {
      "image/png": "[encoded data removed]",
      "text/plain": [
       "<Figure size 1440x1440 with 1 Axes>"
      ]
     },
     "metadata": {
      "needs_background": "light"
     },
     "output_type": "display_data"
    }
   ],
   "source": [
    "# Top 10 Brand on price based\n",
    "plt.figure(figsize = (20,20))\n",
    "sns.barplot(x = data['OriginalPrice'].value_counts().head(15).values, y=data['BrandName'].value_counts().head(15).index, palette= ['blue','green','red','purple','orange','cyan','magenta','yellow','black','purple'])"
   ]
  },
  {
   "cell_type": "code",
   "execution_count": 41,
   "id": "f8bc0d73",
   "metadata": {},
   "outputs": [
    {
     "data": {
      "image/png": "[encoded data removed]",
      "text/plain": [
       "<Figure size 864x576 with 1 Axes>"
      ]
     },
     "metadata": {
      "needs_background": "light"
     },
     "output_type": "display_data"
    }
   ],
   "source": [
    "# Calculate average rating per brand\n",
    "average_rating_by_brand = data.groupby('BrandName')['Ratings'].mean().sort_values(ascending=False)\n",
    "# Select top 15 brands\n",
    "top_15_brands = average_rating_by_brand.head(15)\n",
    "#Plotting\n",
    "plt.figure(figsize=(12, 8))\n",
    "sns.barplot(x=top_15_brands.index, y=top_15_brands.values, palette='viridis')\n",
    "plt.title('Top 15 Brands by Average Ratings', fontsize=16)\n",
    "plt.xlabel('Brand', fontsize=14)\n",
    "plt.ylabel('Average Rating', fontsize=14)\n",
    "plt.xticks(rotation=45, fontsize=12)\n",
    "plt.yticks(fontsize=12)\n",
    "plt.ylim(0, 5)  # Assuming ratings are on a scale of 0 to 5\n",
    "plt.tight_layout()  # Adjust layout to make room for rotated x-axis labels\n",
    "plt.show()"
   ]
  },
  {
   "cell_type": "code",
   "execution_count": 42,
   "id": "9071deb7",
   "metadata": {},
   "outputs": [
    {
     "data": {
      "image/png": "[encoded data removed]",
      "text/plain": [
       "<Figure size 720x432 with 1 Axes>"
      ]
     },
     "metadata": {
      "needs_background": "light"
     },
     "output_type": "display_data"
    }
   ],
   "source": [
    "#to analyze the distribution of products by gender\n",
    "# Analyze the distribution\n",
    "gender_distribution = data['category_by_Gender'].value_counts()\n",
    "# Bar Plot\n",
    "plt.figure(figsize=(10, 6))\n",
    "sns.barplot(x=gender_distribution.index, y=gender_distribution.values, palette='viridis')\n",
    "plt.title('Distribution of Products by Gender')\n",
    "plt.xlabel('Gender Category')\n",
    "plt.ylabel('Number of Products')\n",
    "plt.show()"
   ]
  },
  {
   "cell_type": "code",
   "execution_count": 43,
   "id": "4ddccc5d",
   "metadata": {},
   "outputs": [
    {
     "data": {
      "image/png": "[encoded data removed]",
      "text/plain": [
       "<Figure size 576x576 with 1 Axes>"
      ]
     },
     "metadata": {},
     "output_type": "display_data"
    }
   ],
   "source": [
    "# Pie Chart\n",
    "plt.figure(figsize=(8, 8))\n",
    "plt.pie(gender_distribution, labels=gender_distribution.index, autopct='%1.1f%%', startangle=140, colors=sns.color_palette('viridis', len(gender_distribution)))\n",
    "plt.title('Distribution of Products by Gender')\n",
    "plt.axis('equal')  # Equal aspect ratio ensures that pie is drawn as a circle.\n",
    "plt.show()"
   ]
  },
  {
   "cell_type": "code",
   "execution_count": 46,
   "id": "2e5d1967",
   "metadata": {},
   "outputs": [
    {
     "data": {
      "image/png": "[encoded data removed]",
      "text/plain": [
       "<Figure size 576x432 with 1 Axes>"
      ]
     },
     "metadata": {
      "needs_background": "light"
     },
     "output_type": "display_data"
    },
    {
     "name": "stdout",
     "output_type": "stream",
     "text": [
      "Average Discount Percentage by Gender Category:\n",
      "category_by_Gender\n",
      "Women    75.040425\n",
      "Men      54.981535\n",
      "Name: DiscountPercentage, dtype: float64\n"
     ]
    }
   ],
   "source": [
    "#Determine which gender categories have the highest discounts\n",
    "# Calculate discount percentage\n",
    "data['DiscountPercentage'] = (data['OriginalPrice'] - data['Discount_Price']) / data['OriginalPrice'] * 100\n",
    "\n",
    "# Calculate average discount percentage per gender category\n",
    "average_discount_by_gender = data.groupby('category_by_Gender')['DiscountPercentage'].mean().sort_values(ascending=False)\n",
    "\n",
    "# Plotting\n",
    "plt.figure(figsize=(8, 6))\n",
    "sns.barplot(x=average_discount_by_gender.index, y=average_discount_by_gender.values, palette='viridis')\n",
    "plt.title('Average Discount Percentage by Gender Category')\n",
    "plt.xlabel('Gender Category')\n",
    "plt.ylabel('Average Discount Percentage')\n",
    "plt.xticks(rotation=45)\n",
    "plt.show()\n",
    "\n",
    "print(\"Average Discount Percentage by Gender Category:\")\n",
    "print(average_discount_by_gender)\n"
   ]
  },
  {
   "cell_type": "code",
   "execution_count": 51,
   "id": "ab3e76be",
   "metadata": {},
   "outputs": [
    {
     "data": {
      "image/png": "[encoded data removed]",
      "text/plain": [
       "<Figure size 720x504 with 1 Axes>"
      ]
     },
     "metadata": {},
     "output_type": "display_data"
    },
    {
     "name": "stdout",
     "output_type": "stream",
     "text": [
      "Category Counts for Women:\n",
      "Western                  140992\n",
      "Indian Wear              119911\n",
      "Lingerie & Sleep Wear     55258\n",
      "Plus Size                 11791\n",
      "Sports Wear               11233\n",
      "Name: Category, dtype: int64\n"
     ]
    }
   ],
   "source": [
    "#Most selling category in women\n",
    "#Filter data for women\n",
    "women_data = data[data['category_by_Gender'] == 'Women']\n",
    "\n",
    "# Count the number of sales in each category\n",
    "category_counts = women_data['Category'].value_counts()\n",
    "\n",
    "# Plotting the pie chart\n",
    "plt.figure(figsize=(10, 7))\n",
    "plt.pie(category_counts, labels=category_counts.index, autopct='%1.1f%%', startangle=140, colors=sns.color_palette('pastel'))\n",
    "plt.title('Most Selling Categories in Women', fontsize=16)\n",
    "plt.axis('equal')  # Equal aspect ratio ensures that pie is drawn as a circle.\n",
    "plt.show()\n",
    "\n",
    "print(\"Category Counts for Women:\")\n",
    "print(category_counts)"
   ]
  },
  {
   "cell_type": "code",
   "execution_count": 62,
   "id": "efbfbf07",
   "metadata": {},
   "outputs": [
    {
     "data": {
      "image/png": "[encoded data removed]",
      "text/plain": [
       "<Figure size 720x504 with 1 Axes>"
      ]
     },
     "metadata": {},
     "output_type": "display_data"
    },
    {
     "name": "stdout",
     "output_type": "stream",
     "text": [
      "Most Selling Categories in Men:\n",
      "Topwear                     74537\n",
      "Bottom Wear                 55439\n",
      "Indian Wear                 25934\n",
      "Inner Wear &  Sleep Wear    20370\n",
      "Sports Wear                  9394\n",
      "Plus Size                    1705\n",
      "Name: Category, dtype: int64\n"
     ]
    }
   ],
   "source": [
    "# Filter DataFrame for men's products\n",
    "men_data = data[data['category_by_Gender'] == 'Men']\n",
    "\n",
    "# Calculate the frequency of each category within the men's section\n",
    "category_counts = men_data['Category'].value_counts()\n",
    "\n",
    "# Define custom colors for the pie chart\n",
    "custom_colors = plt.cm.Set3.colors\n",
    "\n",
    "# Plotting the pie chart\n",
    "plt.figure(figsize=(10, 7))\n",
    "plt.pie(category_counts, labels=category_counts.index, autopct='%1.1f%%', startangle=140, colors=custom_colors)\n",
    "plt.title('Most Selling Categories in Men')\n",
    "plt.axis('equal')  # Equal aspect ratio ensures that pie is drawn as a circle.\n",
    "plt.show()\n",
    "\n",
    "print(\"Most Selling Categories in Men:\")\n",
    "print(category_counts)"
   ]
  },
  {
   "cell_type": "code",
   "execution_count": 56,
   "id": "efd64bc5",
   "metadata": {},
   "outputs": [
    {
     "data": {
      "image/png": "[encoded data removed]",
      "text/plain": [
       "<Figure size 720x576 with 1 Axes>"
      ]
     },
     "metadata": {},
     "output_type": "display_data"
    },
    {
     "name": "stdout",
     "output_type": "stream",
     "text": [
      "Top 10 Most Selling Brands by Women:\n",
      "Pothys           16005\n",
      "KALINI            9589\n",
      "Roadster          6186\n",
      "Ethnic basket     4790\n",
      "Mitera            4695\n",
      "DressBerry        4640\n",
      "Sangria           4439\n",
      "URBANIC           4122\n",
      "HERE&NOW          4015\n",
      "Anouk             3318\n",
      "Name: BrandName, dtype: int64\n"
     ]
    }
   ],
   "source": [
    "#Most selling brand by women\n",
    "# Filter DataFrame for women's products\n",
    "data_women = data[data['category_by_Gender'] == 'Women']\n",
    "# Calculate total sales for each brand\n",
    "sales_by_brand = data_women['BrandName'].value_counts()\n",
    "# Select top 10 brands\n",
    "top_10_brands = sales_by_brand.head(10)\n",
    "\n",
    "# Plotting\n",
    "plt.figure(figsize=(10, 8))\n",
    "top_10_brands.plot.pie(autopct='%1.1f%%', startangle=140, colors=plt.cm.viridis.colors, wedgeprops=dict(width=0.3))\n",
    "plt.title('Top 10 Most Selling Brands by Women')\n",
    "plt.ylabel('')  # Hide the y-label\n",
    "plt.show()\n",
    "\n",
    "print(\"Top 10 Most Selling Brands by Women:\")\n",
    "print(top_10_brands)"
   ]
  },
  {
   "cell_type": "code",
   "execution_count": 60,
   "id": "970b473f",
   "metadata": {},
   "outputs": [
    {
     "data": {
      "image/png": "[encoded data removed]",
      "text/plain": [
       "<Figure size 720x576 with 1 Axes>"
      ]
     },
     "metadata": {},
     "output_type": "display_data"
    },
    {
     "name": "stdout",
     "output_type": "stream",
     "text": [
      "Top 10 Brands by Occurrences for Men:\n",
      "Roadster                 4749\n",
      "SOJANYA                  4124\n",
      "DEYANN                   3750\n",
      "HRX by Hrithik Roshan    3275\n",
      "Puma                     3221\n",
      "Mast & Harbour           2577\n",
      "HERE&NOW                 2500\n",
      "WROGN                    2471\n",
      "HIGHLANDER               2413\n",
      "Allen Solly              2362\n",
      "Name: BrandName, dtype: int64\n"
     ]
    }
   ],
   "source": [
    "# Filter DataFrame to include only products targeted towards men\n",
    "men_data = data[data['category_by_Gender'] == 'Men']\n",
    "\n",
    "# Count the occurrences of each brand\n",
    "brand_counts = men_data['BrandName'].value_counts()\n",
    "\n",
    "# Select the top 10 brands based on occurrences\n",
    "top_10_brands = brand_counts.head(10)\n",
    "\n",
    "# Plotting\n",
    "plt.figure(figsize=(10, 8))\n",
    "plt.pie(top_10_brands, labels=top_10_brands.index, autopct='%1.1f%%', startangle=140, colors=plt.cm.viridis.colors)\n",
    "plt.title('Most Selling Brands for Men (Top 10)')\n",
    "plt.axis('equal')  # Equal aspect ratio ensures the pie is drawn as a circle.\n",
    "plt.show()\n",
    "\n",
    "print(\"Top 10 Brands by Occurrences for Men:\")\n",
    "print(top_10_brands)"
   ]
  },
  {
   "cell_type": "code",
   "execution_count": null,
   "id": "6622dfa8",
   "metadata": {},
   "outputs": [],
   "source": []
  }
 ],
 "metadata": {
  "kernelspec": {
   "display_name": "Python 3 (ipykernel)",
   "language": "python",
   "name": "python3"
  },
  "language_info": {
   "codemirror_mode": {
    "name": "ipython",
    "version": 3
   },
   "file_extension": ".py",
   "mimetype": "text/x-python",
   "name": "python",
   "nbconvert_exporter": "python",
   "pygments_lexer": "ipython3",
   "version": "3.9.12"
  }
 },
 "nbformat": 4,
 "nbformat_minor": 5
}
